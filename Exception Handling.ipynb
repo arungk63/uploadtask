{
 "cells": [
  {
   "cell_type": "markdown",
   "metadata": {},
   "source": [
    "# Exception Handling"
   ]
  },
  {
   "cell_type": "code",
   "execution_count": 1,
   "metadata": {},
   "outputs": [],
   "source": [
    "# Error and Exception\n",
    "\n",
    "# Error is the problem in the developers coding\n",
    "# Exception is the error for which you develop a code to execute certain other Tasks\n",
    "\n",
    "# Process of handling the exception is referred as Exception Handling"
   ]
  },
  {
   "cell_type": "markdown",
   "metadata": {},
   "source": [
    "## Types of Errors"
   ]
  },
  {
   "cell_type": "markdown",
   "metadata": {},
   "source": [
    "#### 1. Compile Time Error : \n",
    "\n",
    "- there is error with the python grammer\n",
    "- syntax / indentation\n"
   ]
  },
  {
   "cell_type": "code",
   "execution_count": 3,
   "metadata": {},
   "outputs": [
    {
     "ename": "SyntaxError",
     "evalue": "unexpected EOF while parsing (<ipython-input-3-d9b60074a87f>, line 5)",
     "output_type": "error",
     "traceback": [
      "\u001b[1;36m  File \u001b[1;32m\"<ipython-input-3-d9b60074a87f>\"\u001b[1;36m, line \u001b[1;32m5\u001b[0m\n\u001b[1;33m    print( ( 28 - 6 ) * 3\u001b[0m\n\u001b[1;37m                         ^\u001b[0m\n\u001b[1;31mSyntaxError\u001b[0m\u001b[1;31m:\u001b[0m unexpected EOF while parsing\n"
     ]
    }
   ],
   "source": [
    "print( 6 * 6 )\n",
    "print( ( 28 - 6 ) * 3"
   ]
  },
  {
   "cell_type": "code",
   "execution_count": 9,
   "metadata": {},
   "outputs": [
    {
     "ename": "IndentationError",
     "evalue": "expected an indented block (<ipython-input-9-e59375493914>, line 6)",
     "output_type": "error",
     "traceback": [
      "\u001b[1;36m  File \u001b[1;32m\"<ipython-input-9-e59375493914>\"\u001b[1;36m, line \u001b[1;32m6\u001b[0m\n\u001b[1;33m    print(\"Even\")\u001b[0m\n\u001b[1;37m    ^\u001b[0m\n\u001b[1;31mIndentationError\u001b[0m\u001b[1;31m:\u001b[0m expected an indented block\n"
     ]
    }
   ],
   "source": [
    "print( 7 * 5)\n",
    "\n",
    "num = 5\n",
    "\n",
    "if num %2 == 0 : \n",
    "print(\"Even\")\n",
    "else : \n",
    "print(\"Odd\")"
   ]
  },
  {
   "cell_type": "markdown",
   "metadata": {},
   "source": [
    "#### 2.  Run time Error : \n",
    "\n",
    "- errors that are caught at the time of running the code at OUTPUT\n",
    "- these are the types of errors for which you catch it with an excpetion\n"
   ]
  },
  {
   "cell_type": "code",
   "execution_count": 13,
   "metadata": {},
   "outputs": [
    {
     "name": "stdout",
     "output_type": "stream",
     "text": [
      "2\n"
     ]
    },
    {
     "ename": "ZeroDivisionError",
     "evalue": "division by zero",
     "output_type": "error",
     "traceback": [
      "\u001b[1;31m---------------------------------------------------------------------------\u001b[0m",
      "\u001b[1;31mZeroDivisionError\u001b[0m                         Traceback (most recent call last)",
      "\u001b[1;32m<ipython-input-13-1a4a7789837b>\u001b[0m in \u001b[0;36m<module>\u001b[1;34m\u001b[0m\n\u001b[0;32m      3\u001b[0m \u001b[1;33m\u001b[0m\u001b[0m\n\u001b[0;32m      4\u001b[0m \u001b[0mprint\u001b[0m\u001b[1;33m(\u001b[0m \u001b[1;36m8\u001b[0m \u001b[1;33m-\u001b[0m \u001b[1;36m6\u001b[0m \u001b[1;33m)\u001b[0m\u001b[1;33m\u001b[0m\u001b[1;33m\u001b[0m\u001b[0m\n\u001b[1;32m----> 5\u001b[1;33m \u001b[0mprint\u001b[0m\u001b[1;33m(\u001b[0m \u001b[0ma\u001b[0m \u001b[1;33m/\u001b[0m \u001b[0mb\u001b[0m \u001b[1;33m)\u001b[0m\u001b[1;33m\u001b[0m\u001b[1;33m\u001b[0m\u001b[0m\n\u001b[0m",
      "\u001b[1;31mZeroDivisionError\u001b[0m: division by zero"
     ]
    }
   ],
   "source": [
    "a = 10\n",
    "b = 0\n",
    "\n",
    "print( 8 - 6 )\n",
    "print( a / b )"
   ]
  },
  {
   "cell_type": "code",
   "execution_count": 16,
   "metadata": {},
   "outputs": [
    {
     "name": "stdout",
     "output_type": "stream",
     "text": [
      "eagle\n"
     ]
    },
    {
     "ename": "IndexError",
     "evalue": "list index out of range",
     "output_type": "error",
     "traceback": [
      "\u001b[1;31m---------------------------------------------------------------------------\u001b[0m",
      "\u001b[1;31mIndexError\u001b[0m                                Traceback (most recent call last)",
      "\u001b[1;32m<ipython-input-16-0d70e8c4e1cc>\u001b[0m in \u001b[0;36m<module>\u001b[1;34m\u001b[0m\n\u001b[0;32m      2\u001b[0m \u001b[1;33m\u001b[0m\u001b[0m\n\u001b[0;32m      3\u001b[0m \u001b[0mprint\u001b[0m\u001b[1;33m(\u001b[0m\u001b[0manimals\u001b[0m\u001b[1;33m[\u001b[0m\u001b[1;36m2\u001b[0m\u001b[1;33m]\u001b[0m\u001b[1;33m)\u001b[0m\u001b[1;33m\u001b[0m\u001b[1;33m\u001b[0m\u001b[0m\n\u001b[1;32m----> 4\u001b[1;33m \u001b[0mprint\u001b[0m\u001b[1;33m(\u001b[0m\u001b[0manimals\u001b[0m\u001b[1;33m[\u001b[0m\u001b[1;36m4\u001b[0m\u001b[1;33m]\u001b[0m\u001b[1;33m)\u001b[0m\u001b[1;33m\u001b[0m\u001b[1;33m\u001b[0m\u001b[0m\n\u001b[0m",
      "\u001b[1;31mIndexError\u001b[0m: list index out of range"
     ]
    }
   ],
   "source": [
    "animals = ['lion', 'whale', 'eagle', 'tiger']\n",
    "\n",
    "print(animals[2])\n",
    "print(animals[4])"
   ]
  },
  {
   "cell_type": "code",
   "execution_count": 17,
   "metadata": {},
   "outputs": [
    {
     "name": "stdout",
     "output_type": "stream",
     "text": [
      "125\n",
      "41\n"
     ]
    },
    {
     "ename": "FileNotFoundError",
     "evalue": "[Errno 2] No such file or directory: 'errors.txt'",
     "output_type": "error",
     "traceback": [
      "\u001b[1;31m---------------------------------------------------------------------------\u001b[0m",
      "\u001b[1;31mFileNotFoundError\u001b[0m                         Traceback (most recent call last)",
      "\u001b[1;32m<ipython-input-17-150b6f77d189>\u001b[0m in \u001b[0;36m<module>\u001b[1;34m\u001b[0m\n\u001b[0;32m      4\u001b[0m \u001b[1;33m\u001b[0m\u001b[0m\n\u001b[0;32m      5\u001b[0m \u001b[1;33m\u001b[0m\u001b[0m\n\u001b[1;32m----> 6\u001b[1;33m \u001b[0mf\u001b[0m \u001b[1;33m=\u001b[0m \u001b[0mopen\u001b[0m\u001b[1;33m(\u001b[0m\u001b[1;34m\"errors.txt\"\u001b[0m\u001b[1;33m,\u001b[0m \u001b[1;34m'r'\u001b[0m\u001b[1;33m)\u001b[0m\u001b[1;33m\u001b[0m\u001b[1;33m\u001b[0m\u001b[0m\n\u001b[0m\u001b[0;32m      7\u001b[0m \u001b[1;33m\u001b[0m\u001b[0m\n\u001b[0;32m      8\u001b[0m \u001b[0mprint\u001b[0m\u001b[1;33m(\u001b[0m\u001b[0mf\u001b[0m\u001b[1;33m.\u001b[0m\u001b[0mread\u001b[0m\u001b[1;33m(\u001b[0m\u001b[1;33m)\u001b[0m\u001b[1;33m)\u001b[0m\u001b[1;33m\u001b[0m\u001b[1;33m\u001b[0m\u001b[0m\n",
      "\u001b[1;31mFileNotFoundError\u001b[0m: [Errno 2] No such file or directory: 'errors.txt'"
     ]
    }
   ],
   "source": [
    "print(5 ** 3)\n",
    "print(500 // 12)\n",
    "\n",
    "\n",
    "\n",
    "f = open(\"errors.txt\", 'r')\n",
    "\n",
    "print(f.read())\n",
    "f.close()"
   ]
  },
  {
   "cell_type": "code",
   "execution_count": 18,
   "metadata": {},
   "outputs": [
    {
     "ename": "ModuleNotFoundError",
     "evalue": "No module named 'myFunctions'",
     "output_type": "error",
     "traceback": [
      "\u001b[1;31m---------------------------------------------------------------------------\u001b[0m",
      "\u001b[1;31mModuleNotFoundError\u001b[0m                       Traceback (most recent call last)",
      "\u001b[1;32m<ipython-input-18-57e63e6b9f41>\u001b[0m in \u001b[0;36m<module>\u001b[1;34m\u001b[0m\n\u001b[1;32m----> 1\u001b[1;33m \u001b[1;32mimport\u001b[0m \u001b[0mmyFunctions\u001b[0m\u001b[1;33m\u001b[0m\u001b[1;33m\u001b[0m\u001b[0m\n\u001b[0m",
      "\u001b[1;31mModuleNotFoundError\u001b[0m: No module named 'myFunctions'"
     ]
    }
   ],
   "source": [
    "import myFunctions"
   ]
  },
  {
   "cell_type": "code",
   "execution_count": null,
   "metadata": {},
   "outputs": [],
   "source": []
  },
  {
   "cell_type": "code",
   "execution_count": null,
   "metadata": {},
   "outputs": [],
   "source": []
  },
  {
   "cell_type": "code",
   "execution_count": 1,
   "metadata": {},
   "outputs": [],
   "source": [
    "## Warnings and Errors\n",
    "\n",
    "import warnings\n",
    "warnings.filterwarnings(\"ignore\")\n",
    "\n",
    "\n",
    "# Warning ???\n",
    "# string 20 methods --> 2 methods will be deleted (depreciated) so pls take care of it\n",
    "# module name will be changed in future"
   ]
  },
  {
   "cell_type": "code",
   "execution_count": null,
   "metadata": {},
   "outputs": [],
   "source": []
  },
  {
   "cell_type": "markdown",
   "metadata": {},
   "source": [
    "## Exception Handling\n",
    "\n",
    "- if there is a single error caught inside the try block then it will come out of the try block\n",
    "\n",
    "https://www.tutorialspoint.com/python/python_exceptions.htm\n",
    "\n",
    "\n",
    "try : \n",
    "    statements\n",
    "    statements\n",
    "    statements\n",
    "    statements\n",
    "    \n",
    "except : \n",
    "    statements\n",
    "    statements\n",
    "    statements\n",
    "\n",
    "finally : \n",
    "    statements\n",
    "    statements\n",
    "    statements\n"
   ]
  },
  {
   "cell_type": "markdown",
   "metadata": {},
   "source": [
    "## Notes\n",
    "\n",
    "- We can have a single try block\n",
    "- try block can exist without finally\n",
    "- except and finally can't exist without try block\n",
    "- finally is always executed\n",
    "- we can have multiple excpet blocks\n"
   ]
  },
  {
   "cell_type": "code",
   "execution_count": null,
   "metadata": {},
   "outputs": [],
   "source": []
  },
  {
   "cell_type": "code",
   "execution_count": 28,
   "metadata": {},
   "outputs": [
    {
     "name": "stdout",
     "output_type": "stream",
     "text": [
      "0.4\n",
      "eagle\n",
      "Python provides two very important features to handle any unexpected error in your Python programs and to add debugging capabilities in them âˆ’\n",
      "\n",
      "    Exception Handling âˆ’ This would be covered in this tutorial. Here is a list standard Exceptions available in Python: Standard Exceptions.\n",
      "\n",
      "    Assertions âˆ’ This would be covered in Assertions in Python tutorial.\n",
      "\n",
      "\n",
      "\n",
      "C:\\Users\\Nitish\\Desktop\\PP\\Python-DS , 12.08.22\\Day13 - 08.09.22\n",
      "\n",
      "******* THANK YOU **********\n",
      "\n"
     ]
    }
   ],
   "source": [
    "# Best Scenario\n",
    "\n",
    "try : \n",
    "    a = 10\n",
    "    b = 25\n",
    "    print( a / b )\n",
    "    \n",
    "    animals = ['lion', 'whale', 'eagle', 'tiger']\n",
    "    print(animals[2])\n",
    "    \n",
    "    f = open(\"errors.txt\", 'r')\n",
    "    print(f.read())\n",
    "    f.close()\n",
    "    \n",
    "    import os\n",
    "    print(os.getcwd())\n",
    "\n",
    "except Exception as e: \n",
    "    print(\"  ---------  ERROR Found -------------  \" )\n",
    "    \n",
    "finally : ## removing junk files, saving the activity, sending the reports\n",
    "    print('\\n******* THANK YOU **********\\n')"
   ]
  },
  {
   "cell_type": "code",
   "execution_count": 33,
   "metadata": {},
   "outputs": [
    {
     "name": "stdout",
     "output_type": "stream",
     "text": [
      "0.4\n",
      "eagle\n",
      "Python provides two very important features to handle any unexpected error in your Python programs and to add debugging capabilities in them âˆ’\n",
      "\n",
      "    Exception Handling âˆ’ This would be covered in this tutorial. Here is a list standard Exceptions available in Python: Standard Exceptions.\n",
      "\n",
      "    Assertions âˆ’ This would be covered in Assertions in Python tutorial.\n",
      "\n",
      "\n",
      "\n",
      "  ---------  ERROR Found -------------  \n",
      "\n",
      "******* THANK YOU **********\n",
      "\n"
     ]
    }
   ],
   "source": [
    "# Errors Scenario\n",
    "\n",
    "try : \n",
    "    a = 10\n",
    "    b = 25\n",
    "    print( a / b )\n",
    "    \n",
    "    animals = ['lion', 'whale', 'eagle', 'tiger']\n",
    "    print(animals[2])\n",
    "    \n",
    "    f = open(\"errors.txt\", 'r')\n",
    "    print(f.read())\n",
    "    f.close()\n",
    "    \n",
    "    import OS\n",
    "    print(os.getcwd())\n",
    "\n",
    "except Exception as e: \n",
    "    print(\"  ---------  ERROR Found -------------  \" )\n",
    "    \n",
    "finally : ## removing junk files, saving the activity, sending the reports\n",
    "    print('\\n******* THANK YOU **********\\n')"
   ]
  },
  {
   "cell_type": "code",
   "execution_count": 37,
   "metadata": {},
   "outputs": [
    {
     "name": "stdout",
     "output_type": "stream",
     "text": [
      "0.4\n",
      "eagle\n",
      "Python provides two very important features to handle any unexpected error in your Python programs and to add debugging capabilities in them âˆ’\n",
      "\n",
      "    Exception Handling âˆ’ This would be covered in this tutorial. Here is a list standard Exceptions available in Python: Standard Exceptions.\n",
      "\n",
      "    Assertions âˆ’ This would be covered in Assertions in Python tutorial.\n",
      "\n",
      "\n",
      "\n",
      "  ---------  ERROR Found -------------   No module named 'OS'\n",
      "\n",
      "******* THANK YOU **********\n",
      "\n"
     ]
    }
   ],
   "source": [
    "# Errors Scenario\n",
    "\n",
    "try : \n",
    "    a = 10\n",
    "    b = 25\n",
    "    print( a / b )\n",
    "    \n",
    "    animals = ['lion', 'whale', 'eagle', 'tiger']\n",
    "    print(animals[2])\n",
    "    \n",
    "    f = open(\"errors.txt\", 'r')\n",
    "    print(f.read())\n",
    "    f.close()\n",
    "    \n",
    "    import os\n",
    "    print(os.getcwd())\n",
    "\n",
    "except Exception as e: \n",
    "    print(\"  ---------  ERROR Found -------------  \" , e)\n",
    "    \n",
    "finally : ## removing junk files, saving the activity, sending the reports\n",
    "    print('\\n******* THANK YOU **********\\n')"
   ]
  },
  {
   "cell_type": "code",
   "execution_count": 41,
   "metadata": {},
   "outputs": [
    {
     "name": "stdout",
     "output_type": "stream",
     "text": [
      "0.4\n",
      "eagle\n",
      "Python provides two very important features to handle any unexpected error in your Python programs and to add debugging capabilities in them âˆ’\n",
      "\n",
      "    Exception Handling âˆ’ This would be covered in this tutorial. Here is a list standard Exceptions available in Python: Standard Exceptions.\n",
      "\n",
      "    Assertions âˆ’ This would be covered in Assertions in Python tutorial.\n",
      "\n",
      "\n",
      "\n",
      " Have you installed the Module ???? \n",
      "\n",
      "******* THANK YOU **********\n",
      "\n"
     ]
    }
   ],
   "source": [
    "# Errors Scenario\n",
    "\n",
    "try : \n",
    "    a = 10\n",
    "    b = 25\n",
    "    print( a / b )\n",
    "    \n",
    "    animals = ['lion', 'whale', 'eagle', 'tiger']\n",
    "    print(animals[2])\n",
    "    \n",
    "    f = open(\"errors.txt\", 'r')\n",
    "    print(f.read())\n",
    "    f.close()\n",
    "    \n",
    "    import os\n",
    "    print(os.getcwd())\n",
    "\n",
    "except ZeroDivisionError: \n",
    "    print(\"  Make sure remainder is not 0 \")\n",
    "#     b = int(input())\n",
    "#     print(a / b)\n",
    "\n",
    "except IndexError: \n",
    "    print(\" Why are you not taking Corrrect Index \")\n",
    "\n",
    "except FileNotFoundError: \n",
    "    print(\" I guess your file is not there \")\n",
    "\n",
    "except ModuleNotFoundError: \n",
    "    print(\" Have you installed the Module ???? \")\n",
    "\n",
    "finally : ## removing junk files, saving the activity, sending the reports\n",
    "    print('\\n******* THANK YOU **********\\n')"
   ]
  },
  {
   "cell_type": "code",
   "execution_count": null,
   "metadata": {},
   "outputs": [],
   "source": []
  },
  {
   "cell_type": "code",
   "execution_count": null,
   "metadata": {},
   "outputs": [],
   "source": []
  },
  {
   "cell_type": "code",
   "execution_count": null,
   "metadata": {},
   "outputs": [],
   "source": []
  },
  {
   "cell_type": "code",
   "execution_count": null,
   "metadata": {},
   "outputs": [],
   "source": []
  }
 ],
 "metadata": {
  "kernelspec": {
   "display_name": "Python 3 (ipykernel)",
   "language": "python",
   "name": "python3"
  },
  "language_info": {
   "codemirror_mode": {
    "name": "ipython",
    "version": 3
   },
   "file_extension": ".py",
   "mimetype": "text/x-python",
   "name": "python",
   "nbconvert_exporter": "python",
   "pygments_lexer": "ipython3",
   "version": "3.9.12"
  }
 },
 "nbformat": 4,
 "nbformat_minor": 4
}
